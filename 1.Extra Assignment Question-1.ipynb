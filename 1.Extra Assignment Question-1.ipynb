{
 "cells": [
  {
   "cell_type": "code",
   "execution_count": 7,
   "id": "b0c58ce6-4c62-4c39-b60b-cd8ab67fd30b",
   "metadata": {},
   "outputs": [
    {
     "name": "stdout",
     "output_type": "stream",
     "text": [
      "Hope AI\n"
     ]
    }
   ],
   "source": [
    "# print statement\n",
    "print(\"Hope AI\")\n"
   ]
  },
  {
   "cell_type": "code",
   "execution_count": 3,
   "id": "e0409b41-f7b0-4a58-821f-f13d4c4d9df7",
   "metadata": {},
   "outputs": [
    {
     "name": "stdin",
     "output_type": "stream",
     "text": [
      "Enter your institute Name ? Hope AI\n"
     ]
    },
    {
     "name": "stdout",
     "output_type": "stream",
     "text": [
      "\n"
     ]
    }
   ],
   "source": [
    "#Buy input\n",
    "a=input(\"Enter your institute Name ?\")\n",
    "print(\"\")\n"
   ]
  },
  {
   "cell_type": "code",
   "execution_count": 5,
   "id": "fd111d46-80e5-4f01-9961-4db1b4cd1fd4",
   "metadata": {},
   "outputs": [
    {
     "name": "stdin",
     "output_type": "stream",
     "text": [
      "Enter your Name Raju\n",
      "Enter your Age; 45\n",
      "Enter your School Name: M.H.S.S\n",
      "Enter your Degree B.com\n"
     ]
    },
    {
     "name": "stdout",
     "output_type": "stream",
     "text": [
      "\n"
     ]
    }
   ],
   "source": [
    "#Buy input\n",
    "input(\"Enter your Name\")\n",
    "int(input(\"Enter your Age;\"))\n",
    "input(\"Enter your School Name:\")\n",
    "input(\"Enter your Degree\")\n",
    "print(\"\")"
   ]
  },
  {
   "cell_type": "code",
   "execution_count": 8,
   "id": "edefe996-e9a0-4e70-9968-d44a26b0420f",
   "metadata": {},
   "outputs": [
    {
     "name": "stdout",
     "output_type": "stream",
     "text": [
      "a= 43\n",
      "b= 34\n",
      "Add= 77\n"
     ]
    }
   ],
   "source": [
    "#Addition\n",
    "Num1=43\n",
    "print(\"a=\",   Num1)\n",
    "Num2=34\n",
    "print(\"b=\"   ,Num2)\n",
    "Addition= Num1+Num2\n",
    "print(\"Add=\",Addition)\n"
   ]
  },
  {
   "cell_type": "code",
   "execution_count": 9,
   "id": "1dd9253e-ec6e-400d-8c1f-27faedbfeeb5",
   "metadata": {},
   "outputs": [
    {
     "name": "stdout",
     "output_type": "stream",
     "text": [
      "a= 43\n",
      "b= 34\n",
      "Sub= 9\n"
     ]
    }
   ],
   "source": [
    "# Substraction\n",
    "Num1=43\n",
    "print(\"a=\",   Num1)\n",
    "Num2=34\n",
    "print(\"b=\"   ,Num2)\n",
    "substraction= Num1-Num2\n",
    "print(\"Sub=\",substraction)"
   ]
  },
  {
   "cell_type": "code",
   "execution_count": 10,
   "id": "f89125fe-5e33-4c98-af4f-254bf2c1cadd",
   "metadata": {},
   "outputs": [
    {
     "name": "stdout",
     "output_type": "stream",
     "text": [
      "a= 63\n",
      "b= 97\n",
      "Mul= 6111\n"
     ]
    }
   ],
   "source": [
    "# Multiplication\n",
    "Num1=63\n",
    "print(\"a=\",   Num1)\n",
    "Num2=97\n",
    "print(\"b=\"   ,Num2)\n",
    "multiplication= Num1*Num2\n",
    "print(\"Mul=\",multiplication)"
   ]
  },
  {
   "cell_type": "code",
   "execution_count": 11,
   "id": "ff029770-b5e8-4255-b164-774b1e937385",
   "metadata": {},
   "outputs": [
    {
     "name": "stdout",
     "output_type": "stream",
     "text": [
      "a= 76\n",
      "b= 31\n",
      "Float Div= 2.4516129032258065\n"
     ]
    }
   ],
   "source": [
    "# Division\n",
    "Num1=76\n",
    "print(\"a=\",   Num1)\n",
    "Num2=31\n",
    "print(\"b=\"   ,Num2)\n",
    "division= Num1/Num2\n",
    "print(\"Float Div=\",division)"
   ]
  },
  {
   "cell_type": "code",
   "execution_count": 12,
   "id": "34f6387e-0e2e-4420-a0b6-513802e50cf7",
   "metadata": {},
   "outputs": [
    {
     "name": "stdout",
     "output_type": "stream",
     "text": [
      "a= 76\n",
      "b= 31\n",
      "Floor Div= 2\n"
     ]
    }
   ],
   "source": [
    "# Floor Division\n",
    "Num1=76\n",
    "print(\"a=\",   Num1)\n",
    "Num2=31\n",
    "print(\"b=\"   ,Num2)\n",
    "floordivision= Num1//Num2\n",
    "print(\"Floor Div=\",floordivision)"
   ]
  },
  {
   "cell_type": "code",
   "execution_count": 14,
   "id": "032151f5-8c3c-4a01-a859-8304f6099941",
   "metadata": {},
   "outputs": [
    {
     "name": "stdout",
     "output_type": "stream",
     "text": [
      "a= 76\n",
      "b= 31\n",
      "Modulo= 14\n"
     ]
    }
   ],
   "source": [
    "# Modulo\n",
    "Num1=76\n",
    "print(\"a=\",   Num1)\n",
    "Num2=31\n",
    "print(\"b=\"   ,Num2)\n",
    "mod= Num1%Num2\n",
    "print(\"Modulo=\",mod)"
   ]
  },
  {
   "cell_type": "code",
   "execution_count": 13,
   "id": "c1840839-1416-4833-8c7a-3edc574275fd",
   "metadata": {},
   "outputs": [
    {
     "name": "stdout",
     "output_type": "stream",
     "text": [
      "a= 4\n",
      "b= 4\n",
      "power= 256\n"
     ]
    }
   ],
   "source": [
    "# Power\n",
    "Num1= 4\n",
    "print(\"a=\",   Num1)\n",
    "Num2=4\n",
    "print(\"b=\"   ,Num2)\n",
    "pow= Num1**Num2\n",
    "print(\"power=\",pow)"
   ]
  },
  {
   "cell_type": "code",
   "execution_count": null,
   "id": "c422c444-f49e-42e8-8df9-728de28c4924",
   "metadata": {},
   "outputs": [],
   "source": []
  }
 ],
 "metadata": {
  "kernelspec": {
   "display_name": "Python 3 (ipykernel)",
   "language": "python",
   "name": "python3"
  },
  "language_info": {
   "codemirror_mode": {
    "name": "ipython",
    "version": 3
   },
   "file_extension": ".py",
   "mimetype": "text/x-python",
   "name": "python",
   "nbconvert_exporter": "python",
   "pygments_lexer": "ipython3",
   "version": "3.12.4"
  }
 },
 "nbformat": 4,
 "nbformat_minor": 5
}
